{
 "cells": [
  {
   "cell_type": "markdown",
   "metadata": {},
   "source": [
    "# Bring Your Own R Algorithm - Adapted\n",
    "_**Create a Docker container for training R algorithms and hosting R models**_\n",
    "\n",
    "---\n",
    "## Background\n",
    "\n",
    "R is a popular open source statistical programming language, with a lengthy history in Data Science and Machine Learning.  The breadth of algorithms available as an R package is impressive, which fuels a growing community of users.  The R kernel can be installed into Amazon SageMaker Notebooks, and Docker containers which use R can be used to take advantage of Amazon SageMaker's flexible training and hosting functionality.  This notebook illustrates a simple use case for creating an R container and then using it to train and host a model.  In order to take advantage of boto, we'll use Python within the notebook, but this could be done 100% in R by invoking command line arguments.\n",
    "\n",
    "---\n",
    "## Preparation\n",
    "\n",
    "_This notebook was created and tested on an ml.m4.xlarge notebook instance._\n",
    "\n",
    "Let's start by specifying:\n",
    "\n",
    "- The S3 bucket and prefix that you want to use for training and model data.  This should be within the same region as the Notebook Instance, training, and hosting.\n",
    "- The IAM role arn used to give training and hosting access to your data. See the documentation for how to create these.  Note, if more than one role is required for notebook instances, training, and/or hosting, please replace the boto regexp with a the appropriate full IAM role arn string(s)."
   ]
  },
  {
   "cell_type": "code",
   "execution_count": 206,
   "metadata": {
    "isConfigCell": true
   },
   "outputs": [
    {
     "name": "stdout",
     "output_type": "stream",
     "text": [
      "2018-10-17 10:24:13.964750\n"
     ]
    }
   ],
   "source": [
    "from datetime import datetime\n",
    "print(str(datetime.now()))\n",
    "\n",
    "bucket = 'rodzanto20181011'\n",
    "prefix = 'sagemaker/AR-r-byo'\n",
    " \n",
    "# Define IAM role\n",
    "import boto3\n",
    "import re\n",
    "from sagemaker import get_execution_role\n",
    "\n",
    "role = get_execution_role()"
   ]
  },
  {
   "cell_type": "markdown",
   "metadata": {},
   "source": [
    "Now we'll import the libraries we'll need for the remainder of the notebook."
   ]
  },
  {
   "cell_type": "code",
   "execution_count": 207,
   "metadata": {},
   "outputs": [
    {
     "name": "stdout",
     "output_type": "stream",
     "text": [
      "2018-10-17 10:24:14.028538\n"
     ]
    }
   ],
   "source": [
    "print(str(datetime.now()))\n",
    "\n",
    "import time\n",
    "import json\n",
    "import os\n",
    "import pandas as pd\n",
    "import numpy as np\n",
    "import matplotlib.pyplot as plt"
   ]
  },
  {
   "cell_type": "markdown",
   "metadata": {},
   "source": [
    "### Permissions\n",
    "\n",
    "Running this notebook requires permissions in addition to the normal `SageMakerFullAccess` permissions. This is because we'll be creating a new repository in Amazon ECR. The easiest way to add these permissions is simply to add the managed policy `AmazonEC2ContainerRegistryFullAccess` to the role that you used to start your notebook instance. There's no need to restart your notebook instance when you do this, the new permissions will be available immediately.\n",
    "\n",
    "---\n",
    "## Code\n",
    "\n",
    "For this example, we'll need 3 supporting code files.\n",
    "\n",
    "### Fit\n",
    "\n",
    "`mars.R` creates functions to fit and serve our model.  The algorithm we've chosen to use is [Multivariate Adaptive Regression Splines](https://en.wikipedia.org/wiki/Multivariate_adaptive_regression_splines).  This is a suitable example as it's a unique and powerful algorithm, but isn't as broadly used as Amazon SageMaker algorithms, and it isn't available in Python's scikit-learn library.  R's repository of packages is filled with algorithms that share these same criteria.\n",
    "\n",
    "### Note for this adjusted version we have added the \"penalty\" parameter to the mars.R model, for making sure it properly takes this parameter into account!!!\n",
    "---"
   ]
  },
  {
   "cell_type": "markdown",
   "metadata": {},
   "source": [
    "### Serve\n",
    "`plumber.R` uses the [plumber](https://www.rplumber.io/) package to create a lightweight HTTP server for processing requests in hosting.  Note the specific syntax, and see the plumber help docs for additional detail on more specialized use cases."
   ]
  },
  {
   "cell_type": "markdown",
   "metadata": {},
   "source": [
    "### Publish\n",
    "Now, to publish this container to ECR, we'll run the comands below.\n",
    "\n",
    "This command will take several minutes to run the first time."
   ]
  },
  {
   "cell_type": "code",
   "execution_count": 208,
   "metadata": {},
   "outputs": [
    {
     "name": "stdout",
     "output_type": "stream",
     "text": [
      "Login Succeeded\n",
      "Sending build context to Docker daemon  303.6kB\r",
      "\r\n",
      "Step 1/7 : FROM ubuntu:16.04\n",
      " ---> b9e15a5d1e1a\n",
      "Step 2/7 : MAINTAINER Amazon SageMaker Examples <amazon-sagemaker-examples@amazon.com>\n",
      " ---> Using cache\n",
      " ---> 77028ecccc19\n",
      "Step 3/7 : RUN apt-get -y update && apt-get install -y --no-install-recommends     wget     r-base     r-base-dev     ca-certificates\n",
      " ---> Using cache\n",
      " ---> 264b0f2c69ad\n",
      "Step 4/7 : RUN R -e \"install.packages(c('mda', 'plumber'), repos='https://cloud.r-project.org')\"\n",
      " ---> Using cache\n",
      " ---> e1ae9c86a960\n",
      "Step 5/7 : COPY mars.R /opt/ml/mars.R\n",
      " ---> f87af01ea372\n",
      "Step 6/7 : COPY plumber.R /opt/ml/plumber.R\n",
      " ---> cfbd94077c88\n",
      "Step 7/7 : ENTRYPOINT [\"/usr/bin/Rscript\", \"/opt/ml/mars.R\", \"--no-save\"]\n",
      " ---> Running in 6d3adf1e5119\n",
      "Removing intermediate container 6d3adf1e5119\n",
      " ---> 888979a83fe7\n",
      "Successfully built 888979a83fe7\n",
      "Successfully tagged rmars:latest\n",
      "The push refers to repository [889960878219.dkr.ecr.us-east-1.amazonaws.com/rmars]\n",
      "b5f1a85bd662: Preparing\n",
      "75c810a6d5d8: Preparing\n",
      "1cf72ebc96a5: Preparing\n",
      "83713d6689f3: Preparing\n",
      "75b79e19929c: Preparing\n",
      "4775b2f378bb: Preparing\n",
      "883eafdbe580: Preparing\n",
      "19d043c86cbc: Preparing\n",
      "8823818c4748: Preparing\n",
      "883eafdbe580: Waiting\n",
      "19d043c86cbc: Waiting\n",
      "8823818c4748: Waiting\n",
      "4775b2f378bb: Waiting\n",
      "83713d6689f3: Layer already exists\n",
      "1cf72ebc96a5: Layer already exists\n",
      "75b79e19929c: Layer already exists\n",
      "4775b2f378bb: Layer already exists\n",
      "883eafdbe580: Layer already exists\n",
      "19d043c86cbc: Layer already exists\n",
      "8823818c4748: Layer already exists\n",
      "b5f1a85bd662: Pushed\n",
      "75c810a6d5d8: Pushed\n",
      "latest: digest: sha256:613d2f7cbe1ae33f6380eedbae2d9db0f239baa7fef3d1e750f42d7a7302fa7f size: 2197\n"
     ]
    },
    {
     "name": "stderr",
     "output_type": "stream",
     "text": [
      "WARNING! Using --password via the CLI is insecure. Use --password-stdin.\n"
     ]
    }
   ],
   "source": [
    "%%sh\n",
    "\n",
    "# The name of our algorithm\n",
    "algorithm_name=rmars\n",
    "\n",
    "#set -e # stop if anything fails\n",
    "\n",
    "account=$(aws sts get-caller-identity --query Account --output text)\n",
    "\n",
    "# Get the region defined in the current configuration (default to us-west-2 if none defined)\n",
    "region=$(aws configure get region)\n",
    "region=${region:-us-west-2}\n",
    "\n",
    "fullname=\"${account}.dkr.ecr.${region}.amazonaws.com/${algorithm_name}:latest\"\n",
    "\n",
    "# If the repository doesn't exist in ECR, create it.\n",
    "\n",
    "aws ecr describe-repositories --repository-names \"${algorithm_name}\" > /dev/null 2>&1\n",
    "\n",
    "if [ $? -ne 0 ]\n",
    "then\n",
    "    aws ecr create-repository --repository-name \"${algorithm_name}\" > /dev/null\n",
    "fi\n",
    "\n",
    "# Get the login command from ECR and execute it directly\n",
    "$(aws ecr get-login --region ${region} --no-include-email)\n",
    "\n",
    "# Build the docker image locally with the image name and then push it to ECR\n",
    "# with the full name.\n",
    "docker build  -t ${algorithm_name} .\n",
    "docker tag ${algorithm_name} ${fullname}\n",
    "\n",
    "docker push ${fullname}"
   ]
  },
  {
   "cell_type": "markdown",
   "metadata": {},
   "source": [
    "---\n",
    "## Data\n",
    "For this illustrative example, we'll simply use some performance data from a telco example.\n",
    "This is an extremely simplified version of a real dataset, extracted from a use case for predicting CPU Usage %.\n",
    "Then let's copy the data to S3."
   ]
  },
  {
   "cell_type": "code",
   "execution_count": 209,
   "metadata": {},
   "outputs": [
    {
     "name": "stdout",
     "output_type": "stream",
     "text": [
      "2018-10-17 10:24:18.235387\n"
     ]
    }
   ],
   "source": [
    "print(str(datetime.now()))\n",
    "\n",
    "train_file = 'cpu.csv'\n",
    "boto3.Session().resource('s3').Bucket(bucket).Object(os.path.join(prefix, 'train', train_file)).upload_file(train_file)"
   ]
  },
  {
   "cell_type": "markdown",
   "metadata": {},
   "source": [
    "_Note: Although we could, we'll avoid doing any preliminary transformations on the data, instead choosing to do those transformations inside the container.  This is not typically the best practice for model efficiency, but provides some benefits in terms of flexibility._"
   ]
  },
  {
   "cell_type": "markdown",
   "metadata": {},
   "source": [
    "---\n",
    "## Train\n",
    "\n",
    "Now, let's setup the information needed to train a Multivariate Adaptive Regression Splines (MARS) model on the data.  In this case, we'll predict `cpu`.\n",
    "\n",
    "First, we'll get our region and account information so that we can point to the ECR container we just created."
   ]
  },
  {
   "cell_type": "code",
   "execution_count": 210,
   "metadata": {},
   "outputs": [
    {
     "name": "stdout",
     "output_type": "stream",
     "text": [
      "2018-10-17 10:24:18.363863\n"
     ]
    }
   ],
   "source": [
    "print(str(datetime.now()))\n",
    "\n",
    "region = boto3.Session().region_name\n",
    "account = boto3.client('sts').get_caller_identity().get('Account')"
   ]
  },
  {
   "cell_type": "markdown",
   "metadata": {},
   "source": [
    "\n",
    "- Specify the role to use\n",
    "- Give the training job a name\n",
    "- Point the algorithm to the container we created\n",
    "- Specify training instance resources (in this case our algorithm is only single-threaded so stick to 1 instance)\n",
    "- Point to the S3 location of our input data and the `train` channel expected by our algorithm\n",
    "- Point to the S3 location for output\n",
    "- Provide hyperparamters (keeping it simple)\n",
    "- Maximum run time"
   ]
  },
  {
   "cell_type": "code",
   "execution_count": 211,
   "metadata": {},
   "outputs": [
    {
     "name": "stdout",
     "output_type": "stream",
     "text": [
      "2018-10-17 10:24:18.415469\n",
      "Training job AR-r-byo-2018-10-17-10-24-18\n"
     ]
    }
   ],
   "source": [
    "print(str(datetime.now()))\n",
    "\n",
    "r_job = 'AR-r-byo-' + time.strftime(\"%Y-%m-%d-%H-%M-%S\", time.gmtime())\n",
    "\n",
    "print(\"Training job\", r_job)\n",
    "\n",
    "r_training_params = {\n",
    "    \"RoleArn\": role,\n",
    "    \"TrainingJobName\": r_job,\n",
    "    \"AlgorithmSpecification\": {\n",
    "        \"TrainingImage\": '{}.dkr.ecr.{}.amazonaws.com/rmars:latest'.format(account, region),\n",
    "        \"TrainingInputMode\": \"File\"\n",
    "    },\n",
    "    \"ResourceConfig\": {\n",
    "        \"InstanceCount\": 1,\n",
    "        \"InstanceType\": \"ml.m4.xlarge\",\n",
    "        \"VolumeSizeInGB\": 10\n",
    "    },\n",
    "    \"InputDataConfig\": [\n",
    "        {\n",
    "            \"ChannelName\": \"train\",\n",
    "            \"DataSource\": {\n",
    "                \"S3DataSource\": {\n",
    "                    \"S3DataType\": \"S3Prefix\",\n",
    "                    \"S3Uri\": \"s3://{}/{}/train\".format(bucket, prefix),\n",
    "                    \"S3DataDistributionType\": \"FullyReplicated\"\n",
    "                }\n",
    "            },\n",
    "            \"CompressionType\": \"None\",\n",
    "            \"RecordWrapperType\": \"None\"\n",
    "        }\n",
    "    ],\n",
    "    \"OutputDataConfig\": {\n",
    "        \"S3OutputPath\": \"s3://{}/{}/output\".format(bucket, prefix)\n",
    "    },\n",
    "    \"HyperParameters\": {\n",
    "        \"target\": \"cpu\",\n",
    "        \"degree\": \"3\",\n",
    "        \"prune\": \"FALSE\",\n",
    "        \"thresh\": \"0.003178108140324401\"\n",
    "    },\n",
    "    \"StoppingCondition\": {\n",
    "        \"MaxRuntimeInSeconds\": 60 * 60\n",
    "    }\n",
    "}"
   ]
  },
  {
   "cell_type": "markdown",
   "metadata": {},
   "source": [
    "Now let's kick off our training job on Amazon SageMaker Training, using the parameters we just created.  Because training is managed (AWS takes care of spinning up and spinning down the hardware), we don't have to wait for our job to finish to continue, but for this case, let's setup a waiter so we can monitor the status of our training."
   ]
  },
  {
   "cell_type": "code",
   "execution_count": 212,
   "metadata": {},
   "outputs": [
    {
     "name": "stdout",
     "output_type": "stream",
     "text": [
      "InProgress\n",
      "Training job ended with status: Completed\n",
      "CPU times: user 64 ms, sys: 8 ms, total: 72 ms\n",
      "Wall time: 4min\n"
     ]
    }
   ],
   "source": [
    "%%time\n",
    "\n",
    "sm = boto3.client('sagemaker')\n",
    "sm.create_training_job(**r_training_params)\n",
    "\n",
    "status = sm.describe_training_job(TrainingJobName=r_job)['TrainingJobStatus']\n",
    "print(status)\n",
    "sm.get_waiter('training_job_completed_or_stopped').wait(TrainingJobName=r_job)\n",
    "status = sm.describe_training_job(TrainingJobName=r_job)['TrainingJobStatus']\n",
    "print(\"Training job ended with status: \" + status)\n",
    "if status == 'Failed':\n",
    "    message = sm.describe_training_job(TrainingJobName=r_job)['FailureReason']\n",
    "    print('Training failed with the following error: {}'.format(message))\n",
    "    raise Exception('Training job failed')"
   ]
  },
  {
   "cell_type": "markdown",
   "metadata": {},
   "source": [
    "---\n",
    "## Host\n",
    "\n",
    "Hosting the model we just trained takes three steps in Amazon SageMaker.  First, we define the model we want to host, pointing the service to the model artifact our training job just wrote to S3."
   ]
  },
  {
   "cell_type": "code",
   "execution_count": 213,
   "metadata": {},
   "outputs": [
    {
     "name": "stdout",
     "output_type": "stream",
     "text": [
      "2018-10-17 10:28:19.018045\n",
      "arn:aws:sagemaker:us-east-1:889960878219:model/ar-r-byo-2018-10-17-10-24-18\n"
     ]
    }
   ],
   "source": [
    "print(str(datetime.now()))\n",
    "\n",
    "r_hosting_container = {\n",
    "    'Image': '{}.dkr.ecr.{}.amazonaws.com/rmars:latest'.format(account, region),\n",
    "    'ModelDataUrl': sm.describe_training_job(TrainingJobName=r_job)['ModelArtifacts']['S3ModelArtifacts']\n",
    "}\n",
    "\n",
    "create_model_response = sm.create_model(\n",
    "    ModelName=r_job,\n",
    "    ExecutionRoleArn=role,\n",
    "    PrimaryContainer=r_hosting_container)\n",
    "\n",
    "print(create_model_response['ModelArn'])"
   ]
  },
  {
   "cell_type": "markdown",
   "metadata": {},
   "source": [
    "Next, let's create an endpoing configuration, passing in the model we just registered.  In this case, we'll only use a few c4.xlarges."
   ]
  },
  {
   "cell_type": "code",
   "execution_count": 214,
   "metadata": {},
   "outputs": [
    {
     "name": "stdout",
     "output_type": "stream",
     "text": [
      "2018-10-17 10:28:19.307646\n",
      "AR-r-byo-config-2018-10-17-10-28-19\n",
      "Endpoint Config Arn: arn:aws:sagemaker:us-east-1:889960878219:endpoint-config/ar-r-byo-config-2018-10-17-10-28-19\n"
     ]
    }
   ],
   "source": [
    "print(str(datetime.now()))\n",
    "\n",
    "r_endpoint_config = 'AR-r-byo-config-' + time.strftime(\"%Y-%m-%d-%H-%M-%S\", time.gmtime())\n",
    "print(r_endpoint_config)\n",
    "create_endpoint_config_response = sm.create_endpoint_config(\n",
    "    EndpointConfigName=r_endpoint_config,\n",
    "    ProductionVariants=[{\n",
    "        'InstanceType': 'ml.m4.xlarge',\n",
    "        'InitialInstanceCount': 1,\n",
    "        'ModelName': r_job,\n",
    "        'VariantName': 'AllTraffic'}])\n",
    "\n",
    "print(\"Endpoint Config Arn: \" + create_endpoint_config_response['EndpointConfigArn'])"
   ]
  },
  {
   "cell_type": "markdown",
   "metadata": {},
   "source": [
    "Finally, we'll create the endpoints using our endpoint configuration from the last step."
   ]
  },
  {
   "cell_type": "code",
   "execution_count": 215,
   "metadata": {},
   "outputs": [
    {
     "name": "stdout",
     "output_type": "stream",
     "text": [
      "AR-r-endpoint-201810171028\n",
      "arn:aws:sagemaker:us-east-1:889960878219:endpoint/ar-r-endpoint-201810171028\n",
      "Status: Creating\n",
      "Arn: arn:aws:sagemaker:us-east-1:889960878219:endpoint/ar-r-endpoint-201810171028\n",
      "Status: InService\n",
      "CPU times: user 152 ms, sys: 0 ns, total: 152 ms\n",
      "Wall time: 5min 31s\n"
     ]
    }
   ],
   "source": [
    "%%time\n",
    "\n",
    "r_endpoint = 'AR-r-endpoint-' + time.strftime(\"%Y%m%d%H%M\", time.gmtime())\n",
    "print(r_endpoint)\n",
    "create_endpoint_response = sm.create_endpoint(\n",
    "    EndpointName=r_endpoint,\n",
    "    EndpointConfigName=r_endpoint_config)\n",
    "print(create_endpoint_response['EndpointArn'])\n",
    "\n",
    "resp = sm.describe_endpoint(EndpointName=r_endpoint)\n",
    "status = resp['EndpointStatus']\n",
    "print(\"Status: \" + status)\n",
    "\n",
    "try:\n",
    "    sm.get_waiter('endpoint_in_service').wait(EndpointName=r_endpoint)\n",
    "finally:\n",
    "    resp = sm.describe_endpoint(EndpointName=r_endpoint)\n",
    "    status = resp['EndpointStatus']\n",
    "    print(\"Arn: \" + resp['EndpointArn'])\n",
    "    print(\"Status: \" + status)\n",
    "\n",
    "    if status != 'InService':\n",
    "        raise Exception('Endpoint creation did not succeed')"
   ]
  },
  {
   "cell_type": "markdown",
   "metadata": {},
   "source": [
    "---\n",
    "## Predict\n",
    "To confirm our endpoints are working properly, let's try to invoke the endpoint.\n",
    "\n",
    "_Note: The payload we're passing in the request is a CSV string with a header record, followed by multiple new lines.  It also contains text columns, which the serving code converts to the set of indicator variables needed for our model predictions.  Again, this is not a best practice for highly optimized code, however, it showcases the flexibility of bringing your own algorithm._"
   ]
  },
  {
   "cell_type": "code",
   "execution_count": 216,
   "metadata": {},
   "outputs": [
    {
     "name": "stdout",
     "output_type": "stream",
     "text": [
      "2018-10-17 10:33:50.891487\n",
      "subs,trans,mem\n",
      "9552,1923,8.0\n",
      "9680,1961,7.0\n",
      "9731,1979,7.0\n",
      "11666,2030,8.0\n",
      "14675,2112,7.0\n",
      "15265,2192,6.0\n",
      "15484,2235,7.0\n",
      "15723,2351,6.0\n",
      "16501,2411,6.0\n",
      "16890,2475,8.0\n",
      "17203,2524,8.0\n",
      "17707,2674,8.0\n",
      "18108,2833,7.0\n",
      "18266,2863,8.0\n",
      "19308,2839,10.0\n",
      "18224,2898,9.0\n",
      "18997,3123,8.0\n",
      "19505,3195,6.0\n",
      "19800,3239,7.0\n",
      "19546,3129,8.0\n",
      "19117,3100,7.0\n",
      "18774,3008,9.0\n",
      "17813,2983,10.0\n",
      "17304,3069,8.0\n",
      "16756,3151,9.0\n",
      "16749,3127,9.0\n",
      "16925,3179,9.0\n",
      "17231,3207,8.0\n",
      "\n",
      "Original     Predicted     Dif%\n",
      "5.5         5.96244854 -8.40815525\n",
      "5.95        5.95459926 -0.07729855\n",
      "6.63        6.09850844  8.01646394\n",
      "7.56        7.47609815  1.10981279\n",
      "8.72        8.82188035 -1.1683526\n",
      "9.37        9.27449048  1.01931183\n",
      "9.92        9.97263916 -0.5306367\n",
      "10.17       10.54841426 -3.72088751\n",
      "11.08       11.24910326 -1.52620273\n",
      "12.5        12.47435794  0.2051365\n",
      "13.75       12.92941562  5.96788637\n",
      "13.66       13.87457292 -1.570812\n",
      "13.85       13.91427586 -0.46408565\n",
      "14.15       14.27316036 -0.87039122\n",
      "14.89       14.89449635 -0.03019713\n",
      "14.99       14.71797251  1.81472644\n",
      "14.84       14.83433395  0.03818091\n",
      "14.48       14.24827639  1.60030115\n",
      "14.54       14.60435032 -0.44257444\n",
      "14.4        14.66728328 -1.85613388\n",
      "14.6        14.40317781  1.3480972\n",
      "14.97       14.9766758  -0.04459453\n",
      "15.11       15.28956311 -1.18837268\n",
      "14.83       15.23910762 -2.75864883\n",
      "15.08       15.34251741 -1.74083164\n",
      "15.13       15.26404015 -0.88592302\n",
      "15.86       15.52256899  2.12755998\n",
      "15.94       15.64167169  1.87157032\n"
     ]
    }
   ],
   "source": [
    "print(str(datetime.now()))\n",
    "\n",
    "cpu = pd.read_csv('cpu.csv')\n",
    "\n",
    "runtime = boto3.Session().client('runtime.sagemaker')\n",
    "\n",
    "payload = cpu.drop(['cpu'], axis=1).to_csv(index=False)\n",
    "response = runtime.invoke_endpoint(EndpointName=r_endpoint,\n",
    "                                   ContentType='text/csv',\n",
    "                                   Body=payload)\n",
    "\n",
    "print(payload)\n",
    "\n",
    "result = json.loads(response['Body'].read().decode())\n",
    "\n",
    "original = cpu['cpu'].values\n",
    "predicted = np.fromstring(result[0], sep=',')\n",
    "diference = ((original - predicted)/original)*100\n",
    "\n",
    "print(\"Original     Predicted     Dif%\")\n",
    "print(re.sub(r' *\\n *', '\\n', np.array_str(np.c_[original, predicted, diference]).replace('[', '').replace(']', '').strip()))\n",
    "\n",
    "#payload"
   ]
  },
  {
   "cell_type": "markdown",
   "metadata": {},
   "source": [
    "We can see the result is a CSV of predictions for our target variable.  Let's compare them to the actuals to see how \n",
    "our model did."
   ]
  },
  {
   "cell_type": "code",
   "execution_count": 217,
   "metadata": {},
   "outputs": [
    {
     "name": "stdout",
     "output_type": "stream",
     "text": [
      "2018-10-17 10:33:51.180743\n"
     ]
    },
    {
     "data": {
      "image/png": "[encoded data removed]",
      "text/plain": [
       "<Figure size 432x288 with 1 Axes>"
      ]
     },
     "metadata": {},
     "output_type": "display_data"
    },
    {
     "data": {
      "image/png": "[encoded data removed]",
      "text/plain": [
       "<Figure size 432x288 with 1 Axes>"
      ]
     },
     "metadata": {},
     "output_type": "display_data"
    },
    {
     "data": {
      "image/png": "[encoded data removed]",
      "text/plain": [
       "<Figure size 432x288 with 1 Axes>"
      ]
     },
     "metadata": {},
     "output_type": "display_data"
    }
   ],
   "source": [
    "print(str(datetime.now()))\n",
    "\n",
    "plt.figure(4)\n",
    "plt.plot(cpu['subs'].values, label='Subscribers')\n",
    "plt.ylabel('subs')\n",
    "plt.title('Subscribers')\n",
    "plt.figure(5)\n",
    "plt.plot(cpu['trans'].values, label='Transactions')\n",
    "plt.ylabel('trans')\n",
    "plt.title('Transactions')\n",
    "plt.figure(6)\n",
    "plt.plot(cpu['mem'].values, label='Memory')\n",
    "plt.ylabel('mem')\n",
    "plt.title('Memory')\n",
    "\n",
    "plt.show()\n"
   ]
  },
  {
   "cell_type": "code",
   "execution_count": 232,
   "metadata": {},
   "outputs": [
    {
     "name": "stdout",
     "output_type": "stream",
     "text": [
      "2018-10-19 07:45:21.796983\n"
     ]
    },
    {
     "data": {
      "image/png": "[encoded data removed]",
      "text/plain": [
       "<Figure size 720x720 with 1 Axes>"
      ]
     },
     "metadata": {},
     "output_type": "display_data"
    },
    {
     "data": {
      "image/png": "[encoded data removed]",
      "text/plain": [
       "<Figure size 576x576 with 1 Axes>"
      ]
     },
     "metadata": {},
     "output_type": "display_data"
    },
    {
     "data": {
      "image/png": "[encoded data removed]",
      "text/plain": [
       "<Figure size 576x576 with 1 Axes>"
      ]
     },
     "metadata": {},
     "output_type": "display_data"
    },
    {
     "name": "stdout",
     "output_type": "stream",
     "text": [
      "y=0.992384x+(0.095868)\n"
     ]
    }
   ],
   "source": [
    "print(str(datetime.now()))\n",
    "\n",
    "plt.figure(0,figsize=(10,10))\n",
    "plt.figure(0)\n",
    "plt.plot(original, label='original', color='g')\n",
    "plt.ylabel('CPU usage %')\n",
    "#axes = plt.figure(0).gca()\n",
    "#axes.set_ylim([4,16])\n",
    "plt.plot(predicted, label='predicted', color='r')\n",
    "plt.grid(color='grey', linestyle='-', linewidth=0.1, alpha=0.7)\n",
    "plt.title('CPU usage % - Original (blue) vs Predicted (red)')\n",
    "\n",
    "plt.figure(1,figsize=(8,8))\n",
    "plt.figure(1)\n",
    "plt.plot(diference, label='diference %')\n",
    "plt.ylabel('%')\n",
    "plt.axhline(y=0, color='r', linestyle='--')\n",
    "plt.grid(color='grey', linestyle='-', linewidth=0.1, alpha=0.7)\n",
    "plt.title('Diference %')\n",
    "\n",
    "plt.figure(2,figsize=(8,8))\n",
    "plt.figure(2)\n",
    "plt.scatter(original, predicted, label='scatter')\n",
    "plt.xlabel('Original CPU usage %')\n",
    "plt.ylabel('Predicted CPU usage %')\n",
    "plt.title('Scatter')\n",
    "z = np.polyfit(original, predicted, 1)\n",
    "p = np.poly1d(z)\n",
    "plt.plot(original,p(original),\"r--\")\n",
    "plt.grid(color='grey', linestyle='-', linewidth=0.1, alpha=0.7)\n",
    "\n",
    "plt.show()\n",
    "\n",
    "print (\"y=%.6fx+(%.6f)\"%(z[0],z[1]))"
   ]
  },
  {
   "cell_type": "markdown",
   "metadata": {},
   "source": [
    "---\n",
    "## Extensions\n",
    "\n",
    "This notebook showcases a straightforward example to train and host an R algorithm in Amazon SageMaker.  As mentioned previously, this notebook could also be written in R.  We could even train the algorithm entirely within a notebook and then simply use the serving portion of the container to host our model.\n",
    "\n",
    "Other extensions could include setting up the R algorithm to train in parallel.  Although R is not the easiest language to build distributed applications on top of, this is possible.  In addition, running multiple versions of training simultaneously would allow for parallelized grid (or random) search for optimal hyperparamter settings.  This would more fully realize the benefits of managed training."
   ]
  },
  {
   "cell_type": "markdown",
   "metadata": {},
   "source": [
    "### (Optional) Clean-up\n",
    "\n",
    "If you're ready to be done with this notebook, please run the cell below.  This will remove the hosted endpoint you created and avoid any charges from a stray instance being left on."
   ]
  },
  {
   "cell_type": "code",
   "execution_count": 205,
   "metadata": {},
   "outputs": [
    {
     "name": "stdout",
     "output_type": "stream",
     "text": [
      "2018-10-17 10:23:50.460666\n"
     ]
    },
    {
     "data": {
      "text/plain": [
       "{'ResponseMetadata': {'RequestId': 'de53fa78-80e0-4b6a-aa9b-7d01b3746d7b',\n",
       "  'HTTPStatusCode': 200,\n",
       "  'HTTPHeaders': {'x-amzn-requestid': 'de53fa78-80e0-4b6a-aa9b-7d01b3746d7b',\n",
       "   'content-type': 'application/x-amz-json-1.1',\n",
       "   'content-length': '0',\n",
       "   'date': 'Wed, 17 Oct 2018 10:23:50 GMT'},\n",
       "  'RetryAttempts': 0}}"
      ]
     },
     "execution_count": 205,
     "metadata": {},
     "output_type": "execute_result"
    }
   ],
   "source": [
    "#print(str(datetime.now()))\n",
    "\n",
    "#sm.delete_endpoint(EndpointName=r_endpoint)"
   ]
  },
  {
   "cell_type": "code",
   "execution_count": null,
   "metadata": {},
   "outputs": [],
   "source": []
  }
 ],
 "metadata": {
  "kernelspec": {
   "display_name": "conda_python3",
   "language": "python",
   "name": "conda_python3"
  },
  "language_info": {
   "codemirror_mode": {
    "name": "ipython",
    "version": 3
   },
   "file_extension": ".py",
   "mimetype": "text/x-python",
   "name": "python",
   "nbconvert_exporter": "python",
   "pygments_lexer": "ipython3",
   "version": "3.6.5"
  },
  "notice": "Copyright 2017 Amazon.com, Inc. or its affiliates. All Rights Reserved.  Licensed under the Apache License, Version 2.0 (the \"License\"). You may not use this file except in compliance with the License. A copy of the License is located at http://aws.amazon.com/apache2.0/ or in the \"license\" file accompanying this file. This file is distributed on an \"AS IS\" BASIS, WITHOUT WARRANTIES OR CONDITIONS OF ANY KIND, either express or implied. See the License for the specific language governing permissions and limitations under the License."
 },
 "nbformat": 4,
 "nbformat_minor": 2
}
